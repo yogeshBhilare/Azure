{
 "cells": [
  {
   "cell_type": "markdown",
   "id": "ef77ef28",
   "metadata": {},
   "source": [
    "Challenge #2\n",
    "We need to write code that will query the meta data of an instance within AWS or Azure or GCP\n",
    "and provide a json formatted output.\n",
    "The choice of language and implementation is up to you."
   ]
  },
  {
   "cell_type": "code",
   "execution_count": null,
   "id": "b5710b4f",
   "metadata": {},
   "outputs": [],
   "source": [
    "import requests\n",
    "import json\n",
    "\n",
    "def get_metadata(searchkey=\"all\"):\n",
    "       \n",
    "    metadata_url = \"http://169.254.169.254/metadata/instance?api-version=2021-02-01\"\n",
    "    headers = {'Metadata': 'true'}\n",
    "    response = requests.get(metadata_url, headers=headers)\n",
    "    \n",
    "    if response.status_code ==200 :\n",
    "    #if True :\n",
    "        metadata= response.json()\n",
    "        #with open('sampledata.json') as f: # for test\n",
    "        #    metadata = json.load(f) # for test\n",
    "        if searchkey != \"all\" :\n",
    "            value = metadata.get(searchkey)\n",
    "            if value:\n",
    "                print ( searchkey,\":\", value)\n",
    "                return value\n",
    "            else :\n",
    "                return \"key not found\"\n",
    "        else :\n",
    "            return metadata\n",
    "    else:\n",
    "        print(\"Failed to retrieved to code with API : \" , response.status_code )\n",
    "    \n",
    "#example call function\n",
    "print (get_metadata(\"network\"))"
   ]
  },
  {
   "cell_type": "markdown",
   "id": "bd20150c",
   "metadata": {},
   "source": [
    "Challenge #3\n",
    "We have a nested object. We would like a function where you pass in the object and a key and\n",
    "get back the value.\n",
    "The choice of language and implementation is up to you."
   ]
  },
  {
   "cell_type": "code",
   "execution_count": 2,
   "id": "d53659cc",
   "metadata": {},
   "outputs": [
    {
     "name": "stdout",
     "output_type": "stream",
     "text": [
      "Keys are : ['a', 'b', 'c']\n",
      "---------------------------------\n",
      "\n",
      "Searching key 'a' in value  {'a': {'b': {'c': 'd'}}}\n",
      "a found in  {'a': {'b': {'c': 'd'}}}\n",
      "---------------------------------\n",
      "\n",
      "Searching key 'b' in value  {'b': {'c': 'd'}}\n",
      "b found in  {'b': {'c': 'd'}}\n",
      "---------------------------------\n",
      "\n",
      "Searching key 'c' in value  {'c': 'd'}\n",
      "c found in  {'c': 'd'}\n",
      "Result :  d\n"
     ]
    }
   ],
   "source": [
    "def get_val(obj , key):\n",
    "    keys = key.split(\"/\")\n",
    "    value = obj\n",
    "    print (\"Keys are :\", keys)\n",
    "    for k in keys:\n",
    "        print (\"---------------------------------\\n\")\n",
    "        print (\"Searching key '\" +k  + \"' in value \" ,value)\n",
    "       \n",
    "        if isinstance(value, dict) and k in value:\n",
    "            print (k ,\"found in \", value)\n",
    "            value = value[k]\n",
    "        else:\n",
    "            print (k ,\"not found as a key in  \", value)\n",
    "            return None\n",
    "    return value\n",
    "        \n",
    "object1 = {\"a\":{\"b\":{\"c\":\"d\"}}}        \n",
    "print ( \"Result : \" ,get_val(object1, \"a/b/c\"))"
   ]
  }
 ],
 "metadata": {
  "kernelspec": {
   "display_name": "Python 3 (ipykernel)",
   "language": "python",
   "name": "python3"
  },
  "language_info": {
   "codemirror_mode": {
    "name": "ipython",
    "version": 3
   },
   "file_extension": ".py",
   "mimetype": "text/x-python",
   "name": "python",
   "nbconvert_exporter": "python",
   "pygments_lexer": "ipython3",
   "version": "3.9.12"
  }
 },
 "nbformat": 4,
 "nbformat_minor": 5
}
